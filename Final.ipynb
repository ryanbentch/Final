{
 "cells": [
  {
   "cell_type": "code",
   "execution_count": 131,
   "id": "a55bff76-87c3-4957-b5f7-466833adecc7",
   "metadata": {},
   "outputs": [],
   "source": [
    "#Import necessary libraries\n",
    "import pandas as pd\n",
    "import sklearn as sk\n",
    "import matplotlib.pyplot as plt\n",
    "from sklearn.model_selection import train_test_split\n",
    "from sklearn.linear_model import LinearRegression\n",
    "from sklearn.metrics import mean_squared_error\n",
    "\n",
    "# Dataset Selection (source: https://www.kaggle.com/datasets/mohammadtalib786/retail-sales-dataset)\n",
    "\n",
    "#Import Dataset\n",
    "df = pd.read_csv('retail_sales_dataset.csv')\n",
    "\n",
    "#delete rows from the dataset with missing values\n",
    "df.dropna(inplace=True)\n",
    "\n",
    "# delete columns with unnecessary data and repetitive values\n",
    "df.drop(['Price per Unit'], axis=1, inplace=True)\n",
    "\n",
    "# Recode Product Data\n",
    "\n",
    "df[\"Product Category\"] = df[\"Product Category\"].map({\"Clothing\": 1, \"Electronics\": 2, \"Beauty\": 3})\n",
    "\n",
    "# Recode Gender Data\n",
    "\n",
    "df[\"Gender\"] = df[\"Gender\"].map({\"Male\": 1, \"Female\": 2})"
   ]
  },
  {
   "cell_type": "code",
   "execution_count": 132,
   "id": "034ff0c6-fcff-4a82-b75a-085dd59583d4",
   "metadata": {},
   "outputs": [
    {
     "name": "stdout",
     "output_type": "stream",
     "text": [
      "     Transaction ID        Date Customer ID  Gender  Age  Product Category  \\\n",
      "0                 1  2023-11-24     CUST001       1   34                 3   \n",
      "1                 2  2023-02-27     CUST002       2   26                 1   \n",
      "2                 3  2023-01-13     CUST003       1   50                 2   \n",
      "3                 4  2023-05-21     CUST004       1   37                 1   \n",
      "4                 5  2023-05-06     CUST005       1   30                 3   \n",
      "..              ...         ...         ...     ...  ...               ...   \n",
      "995             996  2023-05-16     CUST996       1   62                 1   \n",
      "996             997  2023-11-17     CUST997       1   52                 3   \n",
      "997             998  2023-10-29     CUST998       2   23                 3   \n",
      "998             999  2023-12-05     CUST999       2   36                 2   \n",
      "999            1000  2023-04-12    CUST1000       1   47                 2   \n",
      "\n",
      "     Quantity  Total Amount  \n",
      "0           3           150  \n",
      "1           2          1000  \n",
      "2           1            30  \n",
      "3           1           500  \n",
      "4           2           100  \n",
      "..        ...           ...  \n",
      "995         1            50  \n",
      "996         3            90  \n",
      "997         4           100  \n",
      "998         3           150  \n",
      "999         4           120  \n",
      "\n",
      "[1000 rows x 8 columns]\n"
     ]
    }
   ],
   "source": [
    "#Import stats from scipy, calculate z-scores, and remove outliers\n",
    "\n",
    "from scipy import stats\n",
    "\n",
    "z_scores = stats.zscore(df['Total Amount'])\n",
    "\n",
    "df_no_outliers = df[(z_scores < 3) & (z_scores > -3)]\n",
    "\n",
    "print(df_no_outliers)"
   ]
  },
  {
   "cell_type": "code",
   "execution_count": 133,
   "id": "9247c590-9dca-46c0-840f-16cc7fcadd15",
   "metadata": {},
   "outputs": [
    {
     "name": "stdout",
     "output_type": "stream",
     "text": [
      "   Transaction ID       Date Customer ID  Gender  Age  Product Category  \\\n",
      "0               1 2023-11-24     CUST001       1   34                 3   \n",
      "1               2 2023-02-27     CUST002       2   26                 1   \n",
      "2               3 2023-01-13     CUST003       1   50                 2   \n",
      "3               4 2023-05-21     CUST004       1   37                 1   \n",
      "4               5 2023-05-06     CUST005       1   30                 3   \n",
      "\n",
      "   Quantity  Total Amount  \n",
      "0         3           150  \n",
      "1         2          1000  \n",
      "2         1            30  \n",
      "3         1           500  \n",
      "4         2           100  \n",
      "   Transaction ID       Date Customer ID  Gender  Age  Product Category  \\\n",
      "0               1 2023-11-24     CUST001       1   34                 3   \n",
      "1               2 2023-02-27     CUST002       2   26                 1   \n",
      "2               3 2023-01-13     CUST003       1   50                 2   \n",
      "3               4 2023-05-21     CUST004       1   37                 1   \n",
      "4               5 2023-05-06     CUST005       1   30                 3   \n",
      "\n",
      "   Quantity  Total Amount  year  month  season  \n",
      "0         3           150  2023     11       4  \n",
      "1         2          1000  2023      2       1  \n",
      "2         1            30  2023      1       1  \n",
      "3         1           500  2023      5       2  \n",
      "4         2           100  2023      5       2  \n",
      "Index(['Transaction ID', 'Date', 'Customer ID', 'Gender', 'Age',\n",
      "       'Product Category', 'Quantity', 'Total Amount', 'year', 'month',\n",
      "       'season'],\n",
      "      dtype='object')\n"
     ]
    }
   ],
   "source": [
    "#Convert timestamp column to datetime format\n",
    "\n",
    "df['Date'] = pd.to_datetime(df['Date'], errors='coerce')\n",
    "print(df.head())\n",
    "\n",
    "#extract additional features such as year and month from the timestamp\n",
    "def season(month):\n",
    "    if month in [12, 1, 2]:\n",
    "        return 'Winter'\n",
    "    elif month in [3, 4, 5]:\n",
    "        return 'Spring'\n",
    "    elif month in [6, 7, 8]:\n",
    "        return 'Summer'\n",
    "    elif month in [9, 10, 11]:\n",
    "        return 'Fall'\n",
    "\n",
    "df['year'] = pd.DatetimeIndex(df['Date']).year\n",
    "df['month'] = pd.DatetimeIndex(df['Date']).month\n",
    "df['season'] = df['month'].apply(season)\n",
    "\n",
    "df[\"season\"] = df[\"season\"].map({\"Winter\": 1, \"Spring\": 2, \"Summer\": 3, \"Fall\": 4})\n",
    "\n",
    "\n",
    "print(df.head())\n",
    "\n",
    "print(df.columns)"
   ]
  },
  {
   "cell_type": "code",
   "execution_count": 134,
   "id": "e4b36485-bc77-47b3-904a-f7eeb7322cf4",
   "metadata": {},
   "outputs": [
    {
     "name": "stdout",
     "output_type": "stream",
     "text": [
      "   Transaction ID       Date Customer ID  Gender  Age  Product Category  \\\n",
      "0               1 2023-11-24     CUST001       1   34                 3   \n",
      "1               2 2023-02-27     CUST002       2   26                 1   \n",
      "2               3 2023-01-13     CUST003       1   50                 2   \n",
      "3               4 2023-05-21     CUST004       1   37                 1   \n",
      "4               5 2023-05-06     CUST005       1   30                 3   \n",
      "\n",
      "   Quantity  Total Amount  year  month  season  class  \n",
      "0         3           150  2023     11       4      2  \n",
      "1         2          1000  2023      2       1      2  \n",
      "2         1            30  2023      1       1      3  \n",
      "3         1           500  2023      5       2      2  \n",
      "4         2           100  2023      5       2      2  \n"
     ]
    }
   ],
   "source": [
    "def age(Age):\n",
    "    if Age >= 1 and Age <= 18:\n",
    "        return 'Youth'\n",
    "    elif Age >= 19 and Age <= 41:\n",
    "        return 'Adult'\n",
    "    elif Age >= 42 and Age <= 64:\n",
    "        return 'Late Adult'\n",
    "    else:\n",
    "        return 'Unknown'\n",
    "\n",
    "df['class'] = df['Age'].apply(Age)\n",
    "\n",
    "df[\"class\"] = df[\"class\"].map({\"Youth\": 1, \"Adult\": 2, \"Late Adult\": 3})\n",
    "\n",
    "print(df.head())"
   ]
  },
  {
   "cell_type": "raw",
   "id": "d4346368-208b-4fe0-9e66-6ddc9d00cb48",
   "metadata": {},
   "source": [
    "#select features and target variables\n",
    "\n",
    "x = df[['class', 'Product Category', 'Quantity', 'Gender', 'season']]\n",
    "y = df['Total Amount']\n",
    "\n",
    "#split data into training and testing sets\n",
    "\n",
    "x_train, x_test, y_train, y_test = train_test_split(x, y, test_size=0.2, random_state=42)\n",
    "\n",
    "#create and train the linear regression model\n",
    "\n",
    "model = LinearRegression()\n",
    "model.fit(x_train, y_train)\n",
    "\n",
    "#make predictions\n",
    "\n",
    "y_pred = model.predict(x_test)\n",
    "\n",
    "#evaluate the model\n",
    "\n",
    "mse = mean_squared_error(y_test, y_pred)\n",
    "print(\"Mean Squared Error:\", mse)\n",
    "print(\"Root Mean Squared Error:\", mse**0.5)\n",
    "\n",
    "#interpret coefficients\n",
    "\n",
    "coefficients = pd.DataFrame(model.coef_, x.columns, columns=['Coefficient'])\n",
    "print(\"\\nCoefficients:\")\n",
    "print(coefficients)"
   ]
  },
  {
   "cell_type": "code",
   "execution_count": 135,
   "id": "16714249-4a03-4e1e-ae5c-b1affc084f8c",
   "metadata": {},
   "outputs": [
    {
     "ename": "NameError",
     "evalue": "name 'x_train' is not defined",
     "output_type": "error",
     "traceback": [
      "\u001b[1;31m---------------------------------------------------------------------------\u001b[0m",
      "\u001b[1;31mNameError\u001b[0m                                 Traceback (most recent call last)",
      "Cell \u001b[1;32mIn[135], line 9\u001b[0m\n\u001b[0;32m      6\u001b[0m \u001b[38;5;66;03m# Model implementation and trainng\u001b[39;00m\n\u001b[0;32m      8\u001b[0m forest \u001b[38;5;241m=\u001b[39m RandomForestClassifier(n_estimators\u001b[38;5;241m=\u001b[39m\u001b[38;5;241m500\u001b[39m, random_state\u001b[38;5;241m=\u001b[39m\u001b[38;5;241m42\u001b[39m)\n\u001b[1;32m----> 9\u001b[0m forest\u001b[38;5;241m.\u001b[39mfit(\u001b[43mx_train\u001b[49m, y_train)\n\u001b[0;32m     11\u001b[0m \u001b[38;5;66;03m# Make Predictions\u001b[39;00m\n\u001b[0;32m     13\u001b[0m forestPredictions \u001b[38;5;241m=\u001b[39m forest\u001b[38;5;241m.\u001b[39mpredict(x_test)\n",
      "\u001b[1;31mNameError\u001b[0m: name 'x_train' is not defined"
     ]
    }
   ],
   "source": [
    "# Implement a Random Forest classifier\n",
    "\n",
    "from sklearn.ensemble import RandomForestClassifier\n",
    "from sklearn.metrics import confusion_matrix, classification_report, accuracy_score\n",
    "\n",
    "# Model implementation and trainng\n",
    "\n",
    "forest = RandomForestClassifier(n_estimators=500, random_state=42)\n",
    "forest.fit(x_train, y_train)\n",
    "\n",
    "# Make Predictions\n",
    "\n",
    "forestPredictions = forest.predict(x_test)\n",
    "print(confusion_matrix(y_test, forestPredictions))\n",
    "print(classification_report(y_test, forestPredictions))\n",
    "\n",
    "# Build feature importance for the variables in the model\n",
    "\n",
    "feature_importances = pd.DataFrame(forest.feature_importances_, index = x_train.columns, columns=['importance']).sort_values('importance', ascending=False)\n",
    "\n",
    "print(feature_importances)"
   ]
  },
  {
   "cell_type": "code",
   "execution_count": null,
   "id": "f5ce4005-4d96-4cc6-930c-e939d410e3c6",
   "metadata": {},
   "outputs": [],
   "source": [
    "# Comprehensive Report:\n",
    "\n",
    "# I imported the necessary libraries.\n",
    "# I selected and imported my data from the Kaggle website.\n",
    "# I deleted rows and columns with missing values from my data.\n",
    "# I recoded the data to be numerical.\n",
    "# I then imports scipy from stats to calculate z scores and also removed outliers.\n",
    "# Next, I converted my timestamp column to datetime format.\n",
    "# Then I extracted additional features such as year, month, and season from the timestamp.\n",
    "# I selected my feature and target variables, split my data into training and testing sets, created and trained a linear regression model and attempted to get it to make predictions.\n",
    "# I then tried to evaluate the model using the mean squared error and root mean squared error.\n",
    "# Next, I tried to run the coefficients and implement a random forest classifier for training and making predictions.\n",
    "# That was followed up by building feature importance for the variables in the model."
   ]
  }
 ],
 "metadata": {
  "kernelspec": {
   "display_name": "Python 3 (ipykernel)",
   "language": "python",
   "name": "python3"
  },
  "language_info": {
   "codemirror_mode": {
    "name": "ipython",
    "version": 3
   },
   "file_extension": ".py",
   "mimetype": "text/x-python",
   "name": "python",
   "nbconvert_exporter": "python",
   "pygments_lexer": "ipython3",
   "version": "3.12.6"
  }
 },
 "nbformat": 4,
 "nbformat_minor": 5
}
